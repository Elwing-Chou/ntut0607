{
  "nbformat": 4,
  "nbformat_minor": 0,
  "metadata": {
    "colab": {
      "provenance": [],
      "authorship_tag": "ABX9TyO4tVyMr+KU2wuUTnZ3pCVa",
      "include_colab_link": true
    },
    "kernelspec": {
      "name": "python3",
      "display_name": "Python 3"
    },
    "language_info": {
      "name": "python"
    }
  },
  "cells": [
    {
      "cell_type": "markdown",
      "metadata": {
        "id": "view-in-github",
        "colab_type": "text"
      },
      "source": [
        "<a href=\"https://colab.research.google.com/github/Elwing-Chou/ntut0607/blob/main/ntut_0614_2.ipynb\" target=\"_parent\"><img src=\"https://colab.research.google.com/assets/colab-badge.svg\" alt=\"Open In Colab\"/></a>"
      ]
    },
    {
      "cell_type": "markdown",
      "source": [
        "\n",
        "\n",
        "```\n",
        "累計的概念\n",
        "* 準備在迴圈外面\n",
        "```\n",
        "\n"
      ],
      "metadata": {
        "id": "OMsNgi4M9qMf"
      }
    },
    {
      "cell_type": "code",
      "execution_count": null,
      "metadata": {
        "id": "3i0nr8949fsJ"
      },
      "outputs": [],
      "source": [
        "total = 0\n",
        "\n",
        "i = 0\n",
        "while i < 10:\n",
        "    # 腦袋中的數字(6) + 4 -> 設定回腦袋\n",
        "    total = total + (i + 1)\n",
        "    print(total)\n",
        "    i = i + 1"
      ]
    },
    {
      "cell_type": "code",
      "source": [
        "a, b = 33, 5\n",
        "result = str(a // b) + \".\"\n",
        "a = a % b\n",
        "i = 0\n",
        "while i < 10:\n",
        "    # 2 -> 20\n",
        "    a10 = a * 10\n",
        "    # 20 // 7 -> 0.2\n",
        "    result = result + str(a10 // b)\n",
        "    print(result)\n",
        "    # 20 % 7 -> 6\n",
        "    a = a10 % b\n",
        "    if a == 0:\n",
        "        print(\"!!\")\n",
        "        break\n",
        "    i = i + 1"
      ],
      "metadata": {
        "colab": {
          "base_uri": "https://localhost:8080/"
        },
        "id": "EXUEYzaKBP4J",
        "outputId": "7b900043-775b-4a2e-e849-60e86a8d66b5"
      },
      "execution_count": 9,
      "outputs": [
        {
          "output_type": "stream",
          "name": "stdout",
          "text": [
            "6.6\n",
            "!!\n"
          ]
        }
      ]
    },
    {
      "cell_type": "code",
      "source": [
        "# b 一位數2-9\n",
        "a, b = 369, 7\n",
        "result = \"\"\n",
        "n10 = 0\n",
        "\n",
        "a_str = str(a)\n",
        "i = 0\n",
        "while i < len(a_str):\n",
        "    d = int(a_str[len(a_str)-i-1])\n",
        "    # b 跟 這位數做一個乘法\n",
        "    # temp_result = 63\n",
        "    # 7 * 9 -> 3留給答案\n",
        "    temp_result = b * d + n10\n",
        "    result = str(temp_result % 10) + result\n",
        "    # 6留給下次\n",
        "    n10 = temp_result // 10\n",
        "    # 得到的結果 你應該把(個位數+上一個留給你的東西)留下放到result裡\n",
        "    # 十位數以上你應該留下來給下次\n",
        "    i = i + 1\n",
        "\n",
        "if not n10 == 0:\n",
        "    result = str(n10) + result\n",
        "print(result)"
      ],
      "metadata": {
        "colab": {
          "base_uri": "https://localhost:8080/"
        },
        "id": "M1s5v5OiKG0h",
        "outputId": "9bd91e12-7277-4c6c-960c-51a630d6d819"
      },
      "execution_count": 13,
      "outputs": [
        {
          "output_type": "stream",
          "name": "stdout",
          "text": [
            "2583\n"
          ]
        }
      ]
    },
    {
      "cell_type": "code",
      "source": [
        "# 參考!!!!!!!!!!!!!!!!!!!!!!\n",
        "# b 一位數2-9\n",
        "a, b = 369, 727\n",
        "total_result = 0\n",
        "a_str, b_str = str(a), str(b)\n",
        "\n",
        "j = 0\n",
        "while j < len(b_str):\n",
        "\n",
        "    # 上面的\n",
        "    result = \"\"\n",
        "    n10 = 0\n",
        "    i = 0\n",
        "    b_digit = int(b_str[len(b_str)-j-1])\n",
        "    while i < len(a_str):\n",
        "        d = int(a_str[len(a_str)-i-1])\n",
        "        # b 跟 這位數做一個乘法\n",
        "        # temp_result = 63\n",
        "        # 7 * 9 -> 3留給答案\n",
        "        temp_result = b_digit * d + n10\n",
        "        result = str(temp_result % 10) + result\n",
        "        # 6留給下次\n",
        "        n10 = temp_result // 10\n",
        "        # 得到的結果 你應該把(個位數+上一個留給你的東西)留下放到result裡\n",
        "        # 十位數以上你應該留下來給下次\n",
        "        i = i + 1\n",
        "    if not n10 == 0:\n",
        "        result = str(n10) + result\n",
        "    # 上面的\n",
        "    total_result = total_result + int(result) * (10 ** j)\n",
        "    j = j + 1\n",
        "print(total_result)"
      ],
      "metadata": {
        "colab": {
          "base_uri": "https://localhost:8080/"
        },
        "id": "TuB5Bo_vRpHs",
        "outputId": "a7d64979-8587-4e8c-d620-3974825fd72b"
      },
      "execution_count": 26,
      "outputs": [
        {
          "output_type": "stream",
          "name": "stdout",
          "text": [
            "268263\n"
          ]
        }
      ]
    },
    {
      "cell_type": "code",
      "source": [
        "\n"
      ],
      "metadata": {
        "id": "67DKMUv_UG5a"
      },
      "execution_count": null,
      "outputs": []
    }
  ]
}