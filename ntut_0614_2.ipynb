{
  "nbformat": 4,
  "nbformat_minor": 0,
  "metadata": {
    "colab": {
      "provenance": [],
      "authorship_tag": "ABX9TyOPKf3DQ4P526PI3bAGiMPA",
      "include_colab_link": true
    },
    "kernelspec": {
      "name": "python3",
      "display_name": "Python 3"
    },
    "language_info": {
      "name": "python"
    }
  },
  "cells": [
    {
      "cell_type": "markdown",
      "metadata": {
        "id": "view-in-github",
        "colab_type": "text"
      },
      "source": [
        "<a href=\"https://colab.research.google.com/github/Elwing-Chou/ntut0607/blob/main/ntut_0614_2.ipynb\" target=\"_parent\"><img src=\"https://colab.research.google.com/assets/colab-badge.svg\" alt=\"Open In Colab\"/></a>"
      ]
    },
    {
      "cell_type": "markdown",
      "source": [
        "\n",
        "\n",
        "```\n",
        "累計的概念\n",
        "* 準備在迴圈外面\n",
        "```\n",
        "\n"
      ],
      "metadata": {
        "id": "OMsNgi4M9qMf"
      }
    },
    {
      "cell_type": "code",
      "execution_count": null,
      "metadata": {
        "id": "3i0nr8949fsJ"
      },
      "outputs": [],
      "source": [
        "total = 0\n",
        "\n",
        "i = 0\n",
        "while i < 10:\n",
        "    # 腦袋中的數字(6) + 4 -> 設定回腦袋\n",
        "    total = total + (i + 1)\n",
        "    print(total)\n",
        "    i = i + 1"
      ]
    }
  ]
}