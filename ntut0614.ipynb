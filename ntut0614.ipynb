{
  "nbformat": 4,
  "nbformat_minor": 0,
  "metadata": {
    "colab": {
      "provenance": [],
      "authorship_tag": "ABX9TyP7pQWNsN7EAq9+1rfKlwGD",
      "include_colab_link": true
    },
    "kernelspec": {
      "name": "python3",
      "display_name": "Python 3"
    },
    "language_info": {
      "name": "python"
    }
  },
  "cells": [
    {
      "cell_type": "markdown",
      "metadata": {
        "id": "view-in-github",
        "colab_type": "text"
      },
      "source": [
        "<a href=\"https://colab.research.google.com/github/Elwing-Chou/ntut0607/blob/main/ntut0614.ipynb\" target=\"_parent\"><img src=\"https://colab.research.google.com/assets/colab-badge.svg\" alt=\"Open In Colab\"/></a>"
      ]
    },
    {
      "cell_type": "markdown",
      "source": [
        "\n",
        "\n",
        "```\n",
        "o\n",
        "oo\n",
        "ooo\n",
        "oooo\n",
        "\n",
        "```\n",
        "\n"
      ],
      "metadata": {
        "id": "82YB_5djClzZ"
      }
    },
    {
      "cell_type": "markdown",
      "source": [
        "https://github.com/Elwing-Chou/ntut0607"
      ],
      "metadata": {
        "id": "TH5_z7nyDa3w"
      }
    },
    {
      "cell_type": "code",
      "execution_count": 11,
      "metadata": {
        "colab": {
          "base_uri": "https://localhost:8080/"
        },
        "id": "PNkvfnFWCavv",
        "outputId": "375cf622-7fe4-4c89-ef72-affcc77d69a1"
      },
      "outputs": [
        {
          "output_type": "stream",
          "name": "stdout",
          "text": [
            "o\n",
            "oo\n",
            "ooo\n",
            "oooo\n",
            "ooooo\n",
            "oooooo\n",
            "ooooooo\n",
            "oooooooo\n",
            "ooooooooo\n",
            "oooooooooo\n"
          ]
        }
      ],
      "source": [
        "i = 0\n",
        "while i < 10:\n",
        "    print(\"o\" * (i + 1))\n",
        "    i = i + 1"
      ]
    },
    {
      "cell_type": "markdown",
      "source": [
        "\n",
        "\n",
        "```\n",
        "___o\n",
        "__oo\n",
        "_ooo\n",
        "oooo\n",
        "```\n",
        "\n"
      ],
      "metadata": {
        "id": "4hVZVzYLDfxH"
      }
    },
    {
      "cell_type": "code",
      "source": [
        "left, right = \" \", \"o\"\n",
        "layer = 10\n",
        "i = 0\n",
        "while i < layer:\n",
        "    lcount = layer - i - 1\n",
        "    rcount = i + 1\n",
        "    line = left * lcount + right * rcount\n",
        "    print(line)\n",
        "    i = i + 1"
      ],
      "metadata": {
        "id": "IBc4DqjBFTWr"
      },
      "execution_count": null,
      "outputs": []
    },
    {
      "cell_type": "code",
      "source": [
        "# 語法補充\n",
        "print(\"hi\" * 10)\n",
        "print([20, 30] * 10)"
      ],
      "metadata": {
        "id": "WIFOhcSgCvMw"
      },
      "execution_count": null,
      "outputs": []
    },
    {
      "cell_type": "markdown",
      "source": [
        "\n",
        "\n",
        "```\n",
        "儲存/讀取檔案\n",
        "\n",
        "!! 編碼: 英文字/中文字(you see) -> 011010101(電腦)\n",
        "編碼人為規定的\n",
        "解碼(反過來): 010101 -> 你看到的\n",
        "\n",
        "英文規定一套:ASCII(X)\n",
        "繁體中文:BIG5(X)\n",
        "簡體中文:GBK(X)\n",
        "\n",
        "亂碼: 邊=/=解\n",
        "\n",
        "唯一一套編碼: 萬國碼(Unicode): utf-8\n",
        "\n",
        "系統預設編碼\n",
        "Linux/Unix/MAC: utf-8\n",
        "Windows: ANSI(對於繁體BIG-5)\n",
        "```\n",
        "\n"
      ],
      "metadata": {
        "id": "Itvbw9ArK8xw"
      }
    },
    {
      "cell_type": "code",
      "source": [
        "f = open(\"a.txt\", \"w\", encoding=\"utf-8\")\n",
        "# 寫入功能: write(f, \"zzzz\")\n",
        "# 專屬(型態)功能:  f.write(\"zzzz\")\n",
        "f.write(\"zzzzz\")\n",
        "f.write(\"\\n\")\n",
        "f.write(\"bbbbb\")\n",
        "# 關閉(以前): close(f)\n",
        "# 專屬功能: f.close()\n",
        "f.close()\n",
        "# 打不出來的我們會用兩個符號來代表他\n",
        "# \\n: 換行 \\t: TAB"
      ],
      "metadata": {
        "id": "BnVsDPdlK8V6"
      },
      "execution_count": 22,
      "outputs": []
    },
    {
      "cell_type": "code",
      "source": [
        "f = open(\"a.txt\", \"r\", encoding=\"utf-8\")\n",
        "# 讀取: s = read(f)\n",
        "s = f.read()\n",
        "print(s)\n",
        "f.close()"
      ],
      "metadata": {
        "colab": {
          "base_uri": "https://localhost:8080/"
        },
        "id": "3bijWjdtVoUc",
        "outputId": "c9f5df1e-9b01-4f67-e7e7-b477c40d4476"
      },
      "execution_count": 23,
      "outputs": [
        {
          "output_type": "stream",
          "name": "stdout",
          "text": [
            "zzzzz\n",
            "bbbbb\n"
          ]
        }
      ]
    }
  ]
}