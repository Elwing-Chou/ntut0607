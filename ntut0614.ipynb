{
  "nbformat": 4,
  "nbformat_minor": 0,
  "metadata": {
    "colab": {
      "provenance": [],
      "authorship_tag": "ABX9TyPoqgiG32h62Sy1Vk7MPc1o",
      "include_colab_link": true
    },
    "kernelspec": {
      "name": "python3",
      "display_name": "Python 3"
    },
    "language_info": {
      "name": "python"
    }
  },
  "cells": [
    {
      "cell_type": "markdown",
      "metadata": {
        "id": "view-in-github",
        "colab_type": "text"
      },
      "source": [
        "<a href=\"https://colab.research.google.com/github/Elwing-Chou/ntut0607/blob/main/ntut0614.ipynb\" target=\"_parent\"><img src=\"https://colab.research.google.com/assets/colab-badge.svg\" alt=\"Open In Colab\"/></a>"
      ]
    },
    {
      "cell_type": "markdown",
      "source": [
        "\n",
        "\n",
        "```\n",
        "o\n",
        "oo\n",
        "ooo\n",
        "oooo\n",
        "\n",
        "```\n",
        "\n"
      ],
      "metadata": {
        "id": "82YB_5djClzZ"
      }
    },
    {
      "cell_type": "markdown",
      "source": [
        "https://github.com/Elwing-Chou/ntut0607"
      ],
      "metadata": {
        "id": "TH5_z7nyDa3w"
      }
    },
    {
      "cell_type": "code",
      "execution_count": 11,
      "metadata": {
        "colab": {
          "base_uri": "https://localhost:8080/"
        },
        "id": "PNkvfnFWCavv",
        "outputId": "375cf622-7fe4-4c89-ef72-affcc77d69a1"
      },
      "outputs": [
        {
          "output_type": "stream",
          "name": "stdout",
          "text": [
            "o\n",
            "oo\n",
            "ooo\n",
            "oooo\n",
            "ooooo\n",
            "oooooo\n",
            "ooooooo\n",
            "oooooooo\n",
            "ooooooooo\n",
            "oooooooooo\n"
          ]
        }
      ],
      "source": [
        "i = 0\n",
        "while i < 10:\n",
        "    print(\"o\" * (i + 1))\n",
        "    i = i + 1"
      ]
    },
    {
      "cell_type": "markdown",
      "source": [
        "\n",
        "\n",
        "```\n",
        "___o\n",
        "__oo\n",
        "_ooo\n",
        "oooo\n",
        "```\n",
        "\n"
      ],
      "metadata": {
        "id": "4hVZVzYLDfxH"
      }
    },
    {
      "cell_type": "code",
      "source": [
        "left, right = \" \", \"o\"\n",
        "layer = 10\n",
        "i = 0\n",
        "while i < layer:\n",
        "    lcount = layer - i - 1\n",
        "    rcount = i + 1\n",
        "    line = left * lcount + right * rcount\n",
        "    print(line)\n",
        "    i = i + 1"
      ],
      "metadata": {
        "id": "IBc4DqjBFTWr"
      },
      "execution_count": null,
      "outputs": []
    },
    {
      "cell_type": "code",
      "source": [
        "# 語法補充\n",
        "print(\"hi\" * 10)\n",
        "print([20, 30] * 10)"
      ],
      "metadata": {
        "id": "WIFOhcSgCvMw"
      },
      "execution_count": null,
      "outputs": []
    }
  ]
}