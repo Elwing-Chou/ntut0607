{
  "nbformat": 4,
  "nbformat_minor": 0,
  "metadata": {
    "colab": {
      "provenance": [],
      "authorship_tag": "ABX9TyM8bOMbbfkkuTyTZdD/OWg8",
      "include_colab_link": true
    },
    "kernelspec": {
      "name": "python3",
      "display_name": "Python 3"
    },
    "language_info": {
      "name": "python"
    }
  },
  "cells": [
    {
      "cell_type": "markdown",
      "metadata": {
        "id": "view-in-github",
        "colab_type": "text"
      },
      "source": [
        "<a href=\"https://colab.research.google.com/github/Elwing-Chou/ntut0607/blob/main/ntut_0621.ipynb\" target=\"_parent\"><img src=\"https://colab.research.google.com/assets/colab-badge.svg\" alt=\"Open In Colab\"/></a>"
      ]
    },
    {
      "cell_type": "markdown",
      "source": [
        "\n",
        "\n",
        "```\n",
        "這就是所謂的演算法\n",
        "1. 拿每個日期開根號\n",
        "2. 數字平方確認日期\n",
        "這兩個方法的執行速度會插上1000倍\n",
        "```\n",
        "\n"
      ],
      "metadata": {
        "id": "ofFHu42TIYkz"
      }
    },
    {
      "cell_type": "code",
      "source": [
        "def add(n1, n2):\n",
        "    ans = n1 + n2\n",
        "    return ans\n",
        "add(10, 20)"
      ],
      "metadata": {
        "colab": {
          "base_uri": "https://localhost:8080/"
        },
        "id": "zE4gvR1xMzjK",
        "outputId": "435d57de-2397-4899-f821-3f847d20bf75"
      },
      "execution_count": 7,
      "outputs": [
        {
          "output_type": "execute_result",
          "data": {
            "text/plain": [
              "30"
            ]
          },
          "metadata": {},
          "execution_count": 7
        }
      ]
    },
    {
      "cell_type": "code",
      "source": [
        "# out->in\n",
        "def is_leap_year(year):\n",
        "    if year % 4 == 0:\n",
        "        if year % 100 == 0:\n",
        "            if year % 400 == 0:\n",
        "                return True\n",
        "            else:\n",
        "                return False\n",
        "        else:\n",
        "            return True\n",
        "    else:\n",
        "        return False\n",
        "print(is_leap_year(2023))\n",
        "print(is_leap_year(2024))\n",
        "print(is_leap_year(2100))\n",
        "print(is_leap_year(2400))"
      ],
      "metadata": {
        "colab": {
          "base_uri": "https://localhost:8080/"
        },
        "id": "-cie13J4O8Ip",
        "outputId": "f455493e-9bc6-4b5e-e7b5-2297f8eaf724"
      },
      "execution_count": 9,
      "outputs": [
        {
          "output_type": "stream",
          "name": "stdout",
          "text": [
            "False\n",
            "True\n",
            "False\n",
            "True\n"
          ]
        }
      ]
    },
    {
      "cell_type": "code",
      "source": [
        "# in->out\n",
        "def is_leap_year(year):\n",
        "    if year % 400 == 0:\n",
        "        return True\n",
        "    elif year % 100 == 0:\n",
        "        return False\n",
        "    elif year % 4 == 0:\n",
        "        return True\n",
        "    else:\n",
        "        return False\n",
        "print(is_leap_year(2023))\n",
        "print(is_leap_year(2024))\n",
        "print(is_leap_year(2100))\n",
        "print(is_leap_year(2400))"
      ],
      "metadata": {
        "colab": {
          "base_uri": "https://localhost:8080/"
        },
        "id": "OeepkWXfPxuh",
        "outputId": "5a125950-e48c-4213-8d4a-6aad63637dd5"
      },
      "execution_count": 10,
      "outputs": [
        {
          "output_type": "stream",
          "name": "stdout",
          "text": [
            "False\n",
            "True\n",
            "False\n",
            "True\n"
          ]
        }
      ]
    },
    {
      "cell_type": "code",
      "execution_count": 18,
      "metadata": {
        "colab": {
          "base_uri": "https://localhost:8080/"
        },
        "id": "ZWajslsAE4Qf",
        "outputId": "f4e7185b-0ea0-4a6f-cd7c-b851f9b8ed30"
      },
      "outputs": [
        {
          "output_type": "stream",
          "name": "stdout",
          "text": [
            "4754 合法世界平方日 2260 5 16\n"
          ]
        }
      ],
      "source": [
        "def is_leap_year(year):\n",
        "    if year % 400 == 0:\n",
        "        return True\n",
        "    elif year % 100 == 0:\n",
        "        return False\n",
        "    elif year % 4 == 0:\n",
        "        return True\n",
        "    else:\n",
        "        return False\n",
        "\n",
        "month_days = [31, 28, 31, 30, 31, 30, 31, 31, 30, 31, 30, 31]\n",
        "\n",
        "target = 20\n",
        "count = 0\n",
        "sqrt_n = 4400\n",
        "while True:\n",
        "    # 先做出一個類似日期的東西\n",
        "    check_date = sqrt_n ** 2\n",
        "    # 確認他是否真能為日期\n",
        "    # 把年月日分開來\n",
        "    # 20241001\n",
        "    day = check_date % 100\n",
        "    remain = check_date // 100\n",
        "    month = remain % 100\n",
        "    year = remain // 100\n",
        "    # 確認month\n",
        "    if 1 <= month <= 12:\n",
        "        month_d = month_days[month-1]\n",
        "        if month == 2 and is_leap_year(year):\n",
        "            month_d = month_d + 1\n",
        "        if 1 <= day <= month_d:\n",
        "            # print(sqrt_n, \"合法世界平方日\", year, month, day)\n",
        "            count = count + 1\n",
        "            if count == target:\n",
        "                print(sqrt_n, \"合法世界平方日\", year, month, day)\n",
        "                break\n",
        "    sqrt_n = sqrt_n + 1"
      ]
    },
    {
      "cell_type": "code",
      "source": [
        "a = 3\n",
        "b = 5\n",
        "# test_a\n",
        "# 功能裡面的名字是只存在功能的小天地裏面\n",
        "def test(a):\n",
        "    b = 50\n",
        "    return 2 * a\n",
        "test(8)\n",
        "print(a)\n",
        "print(b)"
      ],
      "metadata": {
        "colab": {
          "base_uri": "https://localhost:8080/"
        },
        "id": "M37bxLHuRViw",
        "outputId": "df5de442-e590-4e73-f1e5-fed2b892eb70"
      },
      "execution_count": 13,
      "outputs": [
        {
          "output_type": "stream",
          "name": "stdout",
          "text": [
            "3\n",
            "5\n"
          ]
        }
      ]
    }
  ]
}