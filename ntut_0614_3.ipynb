{
  "nbformat": 4,
  "nbformat_minor": 0,
  "metadata": {
    "colab": {
      "provenance": [],
      "authorship_tag": "ABX9TyNPcVzAl/ar4lk9+1qZG1NJ",
      "include_colab_link": true
    },
    "kernelspec": {
      "name": "python3",
      "display_name": "Python 3"
    },
    "language_info": {
      "name": "python"
    }
  },
  "cells": [
    {
      "cell_type": "markdown",
      "metadata": {
        "id": "view-in-github",
        "colab_type": "text"
      },
      "source": [
        "<a href=\"https://colab.research.google.com/github/Elwing-Chou/ntut0607/blob/main/ntut_0614_3.ipynb\" target=\"_parent\"><img src=\"https://colab.research.google.com/assets/colab-badge.svg\" alt=\"Open In Colab\"/></a>"
      ]
    },
    {
      "cell_type": "markdown",
      "source": [
        "\n",
        "\n",
        "```\n",
        "條件不是用次數控制的\n",
        "```\n",
        "\n"
      ],
      "metadata": {
        "id": "BhRZ5jVvYVkb"
      }
    },
    {
      "cell_type": "markdown",
      "source": [
        "\n",
        "\n",
        "```\n",
        "布林型態(是否): True False\n",
        "1. 不: not 5 > 2\n",
        "2. 組合: and(而且) or(或者)\n",
        "比較 and 比較\n",
        "```\n",
        "\n"
      ],
      "metadata": {
        "id": "UGfm1EMBaefs"
      }
    },
    {
      "cell_type": "code",
      "execution_count": 9,
      "metadata": {
        "colab": {
          "base_uri": "https://localhost:8080/"
        },
        "id": "SDysH7Z9YSX0",
        "outputId": "74636b9a-6ebd-4276-ca88-75f08cefcbfc"
      },
      "outputs": [
        {
          "output_type": "stream",
          "name": "stdout",
          "text": [
            "w/e/l: 0 1 0\n",
            "w/e/l: 1 1 0\n",
            "w/e/l: 1 1 1\n",
            "w/e/l: 1 2 1\n",
            "w/e/l: 2 2 1\n",
            "w/e/l: 2 2 2\n",
            "w/e/l: 2 2 3\n",
            "LOSE\n"
          ]
        }
      ],
      "source": [
        "import random\n",
        "\n",
        "win, even, lose = 0, 0, 0\n",
        "while (win < 3) and (lose < 3):\n",
        "    # 0: lose 1: even 2: win\n",
        "    result = random.randint(0, 2)\n",
        "    if result == 0:\n",
        "        lose = lose + 1\n",
        "    elif result == 1:\n",
        "        even = even + 1\n",
        "    elif result == 2:\n",
        "        win = win + 1\n",
        "    else:\n",
        "        print(\"INVALID\")\n",
        "    print(\"w/e/l:\", win, even, lose)\n",
        "\n",
        "if win > lose:\n",
        "    print(\"WIN\")\n",
        "else:\n",
        "    print(\"LOSE\")"
      ]
    }
  ]
}