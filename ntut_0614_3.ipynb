{
  "nbformat": 4,
  "nbformat_minor": 0,
  "metadata": {
    "colab": {
      "provenance": [],
      "authorship_tag": "ABX9TyMPBwuld5mDxY2lCwAAxOYt",
      "include_colab_link": true
    },
    "kernelspec": {
      "name": "python3",
      "display_name": "Python 3"
    },
    "language_info": {
      "name": "python"
    }
  },
  "cells": [
    {
      "cell_type": "markdown",
      "metadata": {
        "id": "view-in-github",
        "colab_type": "text"
      },
      "source": [
        "<a href=\"https://colab.research.google.com/github/Elwing-Chou/ntut0607/blob/main/ntut_0614_3.ipynb\" target=\"_parent\"><img src=\"https://colab.research.google.com/assets/colab-badge.svg\" alt=\"Open In Colab\"/></a>"
      ]
    },
    {
      "cell_type": "markdown",
      "source": [
        "\n",
        "\n",
        "```\n",
        "條件不是用次數控制的\n",
        "```\n",
        "\n"
      ],
      "metadata": {
        "id": "BhRZ5jVvYVkb"
      }
    },
    {
      "cell_type": "markdown",
      "source": [
        "\n",
        "\n",
        "```\n",
        "布林型態(是否): True False\n",
        "1. 不: not 5 > 2\n",
        "2. 組合: and(而且) or(或者)\n",
        "比較 and 比較\n",
        "```\n",
        "\n"
      ],
      "metadata": {
        "id": "UGfm1EMBaefs"
      }
    },
    {
      "cell_type": "code",
      "execution_count": 9,
      "metadata": {
        "colab": {
          "base_uri": "https://localhost:8080/"
        },
        "id": "SDysH7Z9YSX0",
        "outputId": "74636b9a-6ebd-4276-ca88-75f08cefcbfc"
      },
      "outputs": [
        {
          "output_type": "stream",
          "name": "stdout",
          "text": [
            "w/e/l: 0 1 0\n",
            "w/e/l: 1 1 0\n",
            "w/e/l: 1 1 1\n",
            "w/e/l: 1 2 1\n",
            "w/e/l: 2 2 1\n",
            "w/e/l: 2 2 2\n",
            "w/e/l: 2 2 3\n",
            "LOSE\n"
          ]
        }
      ],
      "source": [
        "import random\n",
        "\n",
        "win, even, lose = 0, 0, 0\n",
        "while (win < 3) and (lose < 3):\n",
        "    # 0: lose 1: even 2: win\n",
        "    result = random.randint(0, 2)\n",
        "    if result == 0:\n",
        "        lose = lose + 1\n",
        "    elif result == 1:\n",
        "        even = even + 1\n",
        "    elif result == 2:\n",
        "        win = win + 1\n",
        "    else:\n",
        "        print(\"INVALID\")\n",
        "    print(\"w/e/l:\", win, even, lose)\n",
        "\n",
        "if win > lose:\n",
        "    print(\"WIN\")\n",
        "else:\n",
        "    print(\"LOSE\")"
      ]
    },
    {
      "cell_type": "code",
      "source": [
        "import random\n",
        "\n",
        "# while True\n",
        "# 1. 撰寫比較自由(不用塞到同一行)\n",
        "# 2. 判斷時間點比較自由\n",
        "# 3. 收尾自由\n",
        "# 4. (隱性) 結束會比較好講中文\n",
        "win, even, lose = 0, 0, 0\n",
        "while True:\n",
        "    # 0: lose 1: even 2: win\n",
        "    result = random.randint(0, 2)\n",
        "    if result == 0:\n",
        "        lose = lose + 1\n",
        "    elif result == 1:\n",
        "        even = even + 1\n",
        "    elif result == 2:\n",
        "        win = win + 1\n",
        "    else:\n",
        "        print(\"INVALID\")\n",
        "    print(\"w/e/l:\", win, even, lose)\n",
        "    if win >= 3:\n",
        "        print(\"WIN\")\n",
        "        break\n",
        "    elif lose >= 3:\n",
        "        print(\"LOSE\")\n",
        "        break"
      ],
      "metadata": {
        "id": "lttTwgZyeB6s"
      },
      "execution_count": null,
      "outputs": []
    },
    {
      "cell_type": "code",
      "source": [
        "import random\n",
        "\n",
        "score_win = 5\n",
        "# 4:3 比賽繼續\n",
        "# 5:3 贏了\n",
        "# 5:4 比賽繼續\n",
        "# 6:4 贏了\n",
        "win, lose = 0, 0\n",
        "while True:\n",
        "    result = random.randint(0, 1)\n",
        "    if result == 0:\n",
        "        lose = lose + 1\n",
        "    elif result == 1:\n",
        "        win = win + 1\n",
        "    else:\n",
        "        print(\"INVALID\")\n",
        "    print(\"w/l:\", win, lose)\n",
        "    # 大家都沒到分數線\n",
        "    if\n",
        "        print(\"繼續\")\n",
        "    else\n",
        "        if 分差一分:\n",
        "            print(\"Deuce繼續\")\n",
        "        else:\n",
        "            print(\"比賽結束\")"
      ],
      "metadata": {
        "id": "Wp7JQXg9ge4U"
      },
      "execution_count": null,
      "outputs": []
    },
    {
      "cell_type": "code",
      "source": [
        "abs(-1)"
      ],
      "metadata": {
        "colab": {
          "base_uri": "https://localhost:8080/"
        },
        "id": "onIWeys4hwcc",
        "outputId": "2d62ead5-b383-4f9c-b15e-e02e33183943"
      },
      "execution_count": 10,
      "outputs": [
        {
          "output_type": "execute_result",
          "data": {
            "text/plain": [
              "1"
            ]
          },
          "metadata": {},
          "execution_count": 10
        }
      ]
    }
  ]
}