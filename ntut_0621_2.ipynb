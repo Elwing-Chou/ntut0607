{
  "nbformat": 4,
  "nbformat_minor": 0,
  "metadata": {
    "colab": {
      "provenance": [],
      "authorship_tag": "ABX9TyPqZnmvX3yW6DSwbH7hdAQP",
      "include_colab_link": true
    },
    "kernelspec": {
      "name": "python3",
      "display_name": "Python 3"
    },
    "language_info": {
      "name": "python"
    }
  },
  "cells": [
    {
      "cell_type": "markdown",
      "metadata": {
        "id": "view-in-github",
        "colab_type": "text"
      },
      "source": [
        "<a href=\"https://colab.research.google.com/github/Elwing-Chou/ntut0607/blob/main/ntut_0621_2.ipynb\" target=\"_parent\"><img src=\"https://colab.research.google.com/assets/colab-badge.svg\" alt=\"Open In Colab\"/></a>"
      ]
    },
    {
      "cell_type": "markdown",
      "source": [
        "\n",
        "\n",
        "```\n",
        "WIN: -headers \"Origin: https://ani.gamer.com.tw\" -i \"\" anime.mp4\n",
        "\n",
        "MAC: -headers 'Origin: https://ani.gamer.com.tw' -i '' anime.mp4\n",
        "```\n",
        "\n"
      ],
      "metadata": {
        "id": "-zXN0YwdgsBR"
      }
    },
    {
      "cell_type": "code",
      "execution_count": 18,
      "metadata": {
        "colab": {
          "base_uri": "https://localhost:8080/"
        },
        "id": "66iVZKkIgpem",
        "outputId": "eb26a0cf-a491-40e7-bc11-a0edcf9db9e2"
      },
      "outputs": [
        {
          "output_type": "stream",
          "name": "stdout",
          "text": [
            "<class 'bytes'>\n",
            "<class 'dict'>\n"
          ]
        }
      ],
      "source": [
        "import json\n",
        "import urllib.request as req\n",
        "\n",
        "url = \"https://api.gamer.com.tw/anime/v1/danmu.php?videoSn=36632&geo=TW%2CHK\"\n",
        "f = req.urlopen(url)\n",
        "content = f.read()\n",
        "print(type(content))\n",
        "# 型態轉換: bytes -> list/dict\n",
        "content_convert = json.loads(content)\n",
        "print(type(content_convert))"
      ]
    },
    {
      "cell_type": "code",
      "source": [
        "# list瑣碎\n",
        "scores = [20, 30, 40, 80]\n",
        "# print(scores[len(scores)-1])\n",
        "# key : 0 1 2 3\n",
        "# key2: -4 -3 -2 -1\n",
        "print(scores[-1])"
      ],
      "metadata": {
        "colab": {
          "base_uri": "https://localhost:8080/"
        },
        "id": "qVreh0TXmOWJ",
        "outputId": "ecc7a270-6620-49eb-f7d0-bee50df54208"
      },
      "execution_count": 6,
      "outputs": [
        {
          "output_type": "stream",
          "name": "stdout",
          "text": [
            "80\n"
          ]
        }
      ]
    },
    {
      "cell_type": "code",
      "source": [
        "scores = [80, 20, 40, 80]\n",
        "count = 0\n",
        "\n",
        "i = 0\n",
        "while i < len(scores):\n",
        "    # 如果以後key不是0123...gg\n",
        "    c = scores[i]\n",
        "    if c >= 60:\n",
        "        count = count + 1\n",
        "    i = i + 1\n",
        "\n",
        "print(count)"
      ],
      "metadata": {
        "id": "AdTNOFvZAcpl"
      },
      "execution_count": null,
      "outputs": []
    },
    {
      "cell_type": "code",
      "source": [
        "scores = [80, 20, 40, 80]\n",
        "count = 0\n",
        "# 走過\n",
        "for c in scores:\n",
        "    if c >= 60:\n",
        "        count = count + 1\n",
        "\n",
        "print(count)"
      ],
      "metadata": {
        "colab": {
          "base_uri": "https://localhost:8080/"
        },
        "id": "JEOrEqjZCU6m",
        "outputId": "8002359a-89ba-43d7-977a-0efa0850c1b5"
      },
      "execution_count": 10,
      "outputs": [
        {
          "output_type": "stream",
          "name": "stdout",
          "text": [
            "2\n"
          ]
        }
      ]
    },
    {
      "cell_type": "code",
      "source": [
        "total = 0\n",
        "i = 0\n",
        "while i < 10:\n",
        "    total = total + (i + 1)\n",
        "    print(total)\n",
        "    i = i + 1"
      ],
      "metadata": {
        "id": "wwuEPYxQDvVn"
      },
      "execution_count": null,
      "outputs": []
    },
    {
      "cell_type": "code",
      "source": [
        "# !!!!!!!list(range(5))\n",
        "# list(range(2, 6))\n",
        "total = 0\n",
        "for i in range(10):\n",
        "    total = total + (i + 1)\n",
        "    print(total)"
      ],
      "metadata": {
        "colab": {
          "base_uri": "https://localhost:8080/"
        },
        "id": "doCbIpnHFFTs",
        "outputId": "488e7f1d-6e5d-41df-b789-9a37fa5f0733"
      },
      "execution_count": 13,
      "outputs": [
        {
          "output_type": "stream",
          "name": "stdout",
          "text": [
            "1\n",
            "3\n",
            "6\n",
            "10\n",
            "15\n",
            "21\n",
            "28\n",
            "36\n",
            "45\n",
            "55\n"
          ]
        }
      ]
    },
    {
      "cell_type": "markdown",
      "source": [
        "\n",
        "\n",
        "```\n",
        "迴圈SOP\n",
        "1. 走過(str/list): for 名稱 in list:\n",
        "2. 固定次數: for i in range(次)\n",
        "3. 其他條件: while True + break\n",
        "\n",
        "```\n",
        "\n"
      ],
      "metadata": {
        "id": "RGjfny8CGY7b"
      }
    },
    {
      "cell_type": "code",
      "source": [
        "# 一群學生: [學生, 學生, 學生]\n",
        "# 字典: 聚集很多單位來表示一個複雜資料\n",
        "# 字典裡的每一組: key(數字/字串):value\n",
        "student = {\n",
        "    \"height\":175,\n",
        "    \"name\":\"Elwing\"\n",
        "}\n",
        "print(student[\"height\"])\n",
        "student[\"weight\"] = 77\n",
        "print(student)\n",
        "student[\"height\"] = student[\"height\"] + 5\n",
        "print(student)"
      ],
      "metadata": {
        "colab": {
          "base_uri": "https://localhost:8080/"
        },
        "id": "JB7o3M6QKCMl",
        "outputId": "0298cea2-e37a-4185-fb75-e5371679807c"
      },
      "execution_count": 16,
      "outputs": [
        {
          "output_type": "stream",
          "name": "stdout",
          "text": [
            "175\n",
            "{'height': 175, 'name': 'Elwing', 'weight': 77}\n",
            "{'height': 180, 'name': 'Elwing', 'weight': 77}\n"
          ]
        }
      ]
    },
    {
      "cell_type": "markdown",
      "source": [
        "\n",
        "\n",
        "```\n",
        "JSON格式: 1. list 2. dict\n",
        "list: 一群\n",
        "dict: 一個複雜的東西\n",
        "\n",
        "[\n",
        "    {\n",
        "        \"兄弟姊妹\":[\n",
        "            {\n",
        "                \"姓名\":\n",
        "                \"電話\":[\n",
        "                    \"0912345678\",\n",
        "                    \"09xxxxxxxx\",\n",
        "                ]\n",
        "            }\n",
        "        ]\n",
        "    }\n",
        "]\n",
        "\n",
        "```\n",
        "\n"
      ],
      "metadata": {
        "id": "9nidz3mMMWyQ"
      }
    },
    {
      "cell_type": "code",
      "source": [],
      "metadata": {
        "id": "NCIsns59MWZi"
      },
      "execution_count": null,
      "outputs": []
    }
  ]
}