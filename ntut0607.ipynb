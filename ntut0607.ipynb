{
  "nbformat": 4,
  "nbformat_minor": 0,
  "metadata": {
    "colab": {
      "provenance": [],
      "authorship_tag": "ABX9TyOJV1I8WdzHz0amQbDMsIk6",
      "include_colab_link": true
    },
    "kernelspec": {
      "name": "python3",
      "display_name": "Python 3"
    },
    "language_info": {
      "name": "python"
    }
  },
  "cells": [
    {
      "cell_type": "markdown",
      "metadata": {
        "id": "view-in-github",
        "colab_type": "text"
      },
      "source": [
        "<a href=\"https://colab.research.google.com/github/Elwing-Chou/ntut0607/blob/main/ntut0607.ipynb\" target=\"_parent\"><img src=\"https://colab.research.google.com/assets/colab-badge.svg\" alt=\"Open In Colab\"/></a>"
      ]
    },
    {
      "cell_type": "markdown",
      "source": [
        "\n",
        "\n",
        "```\n",
        "Elwing 周凡剛\n",
        "birdfan8814@gmail.com\n",
        "\n",
        "本地環境:\n",
        "\ta. 翻譯器: python 3.12\n",
        "        b. 輔助工具: Pycharm/VSCode\n",
        "線上環境:\n",
        "\n",
        "一個標準python: .py結尾\n",
        "架構在標準python上的一個工具(jupyter notebook): .ipynb結尾\n",
        "colab其實是線上版本的jupyter notebook\n",
        "```\n",
        "\n"
      ],
      "metadata": {
        "id": "NllXZbiyFLTo"
      }
    },
    {
      "cell_type": "code",
      "source": [],
      "metadata": {
        "id": "8p5mq96sFt_f"
      },
      "execution_count": null,
      "outputs": []
    },
    {
      "cell_type": "code",
      "execution_count": null,
      "metadata": {
        "id": "G0_fOslJBjQS"
      },
      "outputs": [],
      "source": []
    }
  ]
}