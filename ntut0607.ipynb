{
  "nbformat": 4,
  "nbformat_minor": 0,
  "metadata": {
    "colab": {
      "provenance": [],
      "authorship_tag": "ABX9TyP4fREI2UZXfU6HzWJ8rlGW",
      "include_colab_link": true
    },
    "kernelspec": {
      "name": "python3",
      "display_name": "Python 3"
    },
    "language_info": {
      "name": "python"
    }
  },
  "cells": [
    {
      "cell_type": "markdown",
      "metadata": {
        "id": "view-in-github",
        "colab_type": "text"
      },
      "source": [
        "<a href=\"https://colab.research.google.com/github/Elwing-Chou/ntut0607/blob/main/ntut0607.ipynb\" target=\"_parent\"><img src=\"https://colab.research.google.com/assets/colab-badge.svg\" alt=\"Open In Colab\"/></a>"
      ]
    },
    {
      "cell_type": "markdown",
      "source": [
        "\n",
        "\n",
        "```\n",
        "Elwing 周凡剛\n",
        "birdfan8814@gmail.com\n",
        "\n",
        "本地環境:\n",
        "\ta. 翻譯器: python 3.12\n",
        "        b. 輔助工具: Pycharm/VSCode\n",
        "線上環境:\n",
        "\n",
        "一個標準python: .py結尾\n",
        "架構在標準python上的一個工具(jupyter notebook): .ipynb結尾\n",
        "colab其實是線上版本的jupyter notebook\n",
        "\n",
        "\n",
        "1. 可讀性: 排版/語法/註解\n",
        "2. 列印的功能: print(200)\n",
        "!!! 如果一個功能不需要參數: xxxxx()\n",
        "3. 絕對不要重複寫同樣的東西\n",
        "4. =   名稱 = 值\n",
        "   a. 5 == 3 + 2(左右是否相等?)\n",
        "   b. x = 2(取代)\n",
        "```\n",
        "\n"
      ],
      "metadata": {
        "id": "NllXZbiyFLTo"
      }
    },
    {
      "cell_type": "code",
      "source": [
        "# bmi: weight(kg)/height(m)^2\n",
        "weight = 76\n",
        "height = 175\n",
        "print(weight)\n",
        "print(height)\n",
        "print(weight / (height / 100) ** 2)"
      ],
      "metadata": {
        "colab": {
          "base_uri": "https://localhost:8080/"
        },
        "id": "8p5mq96sFt_f",
        "outputId": "a3d90969-c362-459b-af3e-655e770d00b9"
      },
      "execution_count": 7,
      "outputs": [
        {
          "output_type": "stream",
          "name": "stdout",
          "text": [
            "76\n",
            "175\n",
            "24.816326530612244\n"
          ]
        }
      ]
    }
  ]
}