{
  "nbformat": 4,
  "nbformat_minor": 0,
  "metadata": {
    "colab": {
      "provenance": [],
      "authorship_tag": "ABX9TyNJmnx5pq7l8OF+1Be/lBW8",
      "include_colab_link": true
    },
    "kernelspec": {
      "name": "python3",
      "display_name": "Python 3"
    },
    "language_info": {
      "name": "python"
    }
  },
  "cells": [
    {
      "cell_type": "markdown",
      "metadata": {
        "id": "view-in-github",
        "colab_type": "text"
      },
      "source": [
        "<a href=\"https://colab.research.google.com/github/Elwing-Chou/ntut0607/blob/main/ntut0607.ipynb\" target=\"_parent\"><img src=\"https://colab.research.google.com/assets/colab-badge.svg\" alt=\"Open In Colab\"/></a>"
      ]
    },
    {
      "cell_type": "markdown",
      "source": [
        "\n",
        "\n",
        "```\n",
        "Elwing 周凡剛\n",
        "birdfan8814@gmail.com\n",
        "\n",
        "本地環境:\n",
        "\ta. 翻譯器: python 3.12\n",
        "        b. 輔助工具: Pycharm/VSCode\n",
        "線上環境:\n",
        "\n",
        "一個標準python: .py結尾\n",
        "架構在標準python上的一個工具(jupyter notebook): .ipynb結尾\n",
        "colab其實是線上版本的jupyter notebook\n",
        "\n",
        "\n",
        "1. 可讀性: 排版/語法/註解\n",
        "2. 列印的功能: print(200)\n",
        "!!! 如果一個功能不需要參數: xxxxx()\n",
        "3. 絕對不要重複寫同樣的東西\n",
        "4. =   名稱 = 值\n",
        "   a. 5 == 3 + 2(左右是否相等?)\n",
        "   b. x = 2(取代)\n",
        "\n",
        "5. 型態!!!!\n",
        "   a. 數字: 細分兩種\n",
        "            整數(int): 4\n",
        "            小數(float): 4.0, 4.2\n",
        "   b. 字串(文字)(str): \"asdfasdf\"\n",
        "   ? 電話號碼: 文字\n",
        "\n",
        "6. 型態轉換: int() float() str()\n",
        "\n",
        "7. input(字串)\n",
        "   a. 參數\n",
        "   b. 回傳值(結果): 做完這個功能得到的\"新的\"結果(check type: str)\n",
        "\n",
        "\n",
        "8. 如果...否則(if else)\n",
        "if bmi > 25:\n",
        "    print\n",
        "    print\n",
        "else:\n",
        "    print\n",
        "\n",
        "縮排(劇本式排版法)(冒號/TAB)\n",
        "Amy:\n",
        "    xxxxx\n",
        "    xxxx\n",
        "    xx\n",
        "Bob:\n",
        "    XXXXX\n",
        "    XX\n",
        "```\n",
        "\n"
      ],
      "metadata": {
        "id": "NllXZbiyFLTo"
      }
    },
    {
      "cell_type": "code",
      "source": [
        "# bmi: weight(kg)/height(m)^2\n",
        "weight = float(input(\"請輸入體重(kg):\"))\n",
        "height = float(input(\"請輸入身高(cm):\"))\n",
        "bmi = weight / (height / 100) ** 2\n",
        "\n",
        "print(\"你的體重是:\" + str(weight) + \"kg\")\n",
        "print(\"你的身高是:\" + str(height) + \"cm\")\n",
        "print(\"bmi是\" + str(bmi))\n",
        "\n",
        "if bmi > 25:\n",
        "    print(\"過重\")\n",
        "    print(\"該減了\")\n",
        "else:\n",
        "    print(\"正常\")\n",
        "print(\"!!!!!!!!!\")"
      ],
      "metadata": {
        "colab": {
          "base_uri": "https://localhost:8080/"
        },
        "id": "8p5mq96sFt_f",
        "outputId": "8fef04fc-c67b-4b1d-bc1a-30e45a567944"
      },
      "execution_count": 33,
      "outputs": [
        {
          "output_type": "stream",
          "name": "stdout",
          "text": [
            "請輸入體重(kg):76\n",
            "請輸入身高(cm):175\n",
            "你的體重是:76.0kg\n",
            "你的身高是:175.0cm\n",
            "bmi是24.816326530612244\n",
            "正常\n",
            "!!!!!!!!!\n"
          ]
        }
      ]
    },
    {
      "cell_type": "markdown",
      "source": [
        "\n",
        "```\n",
        "小數本來就是一個不精準的數字!!!\n",
        "0.3333333333 * 3 = 1 -> 0.9999999 = 1.0\n",
        "\n",
        "1. 進位\n",
        "十進位: 0 ... 9 10.. 19 20\n",
        "五進位: 0 1 2 3 4 10 11 12 13 14 20 .... 44 100\n",
        "二進位: 0 1 10 11 100 101\n",
        "\n",
        "小數:\n",
        "一塊餅分成十份: 十進位0.1\n",
        "         三份:       0.33333\n",
        "\n",
        "         三份: 三進位 0.1\n",
        "0.333333333(十進位) = 0.1(三進位)\n",
        "```\n"
      ],
      "metadata": {
        "id": "q600Vh3_RtPx"
      }
    },
    {
      "cell_type": "code",
      "source": [
        "3 + 3.14"
      ],
      "metadata": {
        "colab": {
          "base_uri": "https://localhost:8080/"
        },
        "id": "H_29L-aoRKsU",
        "outputId": "26fb0e09-f530-482c-adba-3cea903745eb"
      },
      "execution_count": 11,
      "outputs": [
        {
          "output_type": "execute_result",
          "data": {
            "text/plain": [
              "6.140000000000001"
            ]
          },
          "metadata": {},
          "execution_count": 11
        }
      ]
    },
    {
      "cell_type": "code",
      "source": [
        "a = 4.6\n",
        "b = int(a)\n",
        "print(a)\n",
        "print(b)"
      ],
      "metadata": {
        "colab": {
          "base_uri": "https://localhost:8080/"
        },
        "id": "3lPwWYO0aby-",
        "outputId": "cdfa67f4-ea02-4177-810f-5b3454621897"
      },
      "execution_count": 22,
      "outputs": [
        {
          "output_type": "stream",
          "name": "stdout",
          "text": [
            "4.6\n",
            "4\n"
          ]
        }
      ]
    },
    {
      "cell_type": "code",
      "source": [
        "# bmi: weight(kg)/height(m)^2\n",
        "weight = float(input(\"請輸入體重(kg):\"))\n",
        "height = float(input(\"請輸入身高(cm):\"))\n",
        "bmi = weight / (height / 100) ** 2\n",
        "\n",
        "print(\"你的體重是:\" + str(weight) + \"kg\")\n",
        "print(\"你的身高是:\" + str(height) + \"cm\")\n",
        "print(\"bmi是\" + str(bmi))\n",
        "\n",
        "if bmi > 25:\n",
        "    print(\"過重\")\n",
        "elif bmi > 18:\n",
        "    print(\"正常\")\n",
        "else:\n",
        "    print(\"過輕\")"
      ],
      "metadata": {
        "colab": {
          "base_uri": "https://localhost:8080/"
        },
        "id": "j2mGNRX97NF8",
        "outputId": "a14e2ea6-ff83-4a39-aec2-bb127596d835"
      },
      "execution_count": 34,
      "outputs": [
        {
          "output_type": "stream",
          "name": "stdout",
          "text": [
            "請輸入體重(kg):75.2\n",
            "請輸入身高(cm):175\n",
            "你的體重是:75.2kg\n",
            "你的身高是:175.0cm\n",
            "bmi是24.555102040816326\n",
            "正常\n"
          ]
        }
      ]
    }
  ]
}